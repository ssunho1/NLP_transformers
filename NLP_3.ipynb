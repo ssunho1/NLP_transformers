{
  "nbformat": 4,
  "nbformat_minor": 0,
  "metadata": {
    "colab": {
      "provenance": [],
      "gpuType": "T4"
    },
    "kernelspec": {
      "name": "python3",
      "display_name": "Python 3"
    },
    "language_info": {
      "name": "python"
    },
    "accelerator": "GPU"
  },
  "cells": [
    {
      "cell_type": "markdown",
      "source": [
        "#**5.2 그리디 서치 디코딩**"
      ],
      "metadata": {
        "id": "E28IunPaaOJa"
      }
    },
    {
      "cell_type": "markdown",
      "source": [
        "##**GPT-2 버전 로드하기**"
      ],
      "metadata": {
        "id": "twuHnq_IaLLI"
      }
    },
    {
      "cell_type": "code",
      "source": [
        "!git clone https://github.com/rickiepark/nlp-with-transformers.git\n",
        "%cd nlp-with-transformers\n",
        "from install import *\n",
        "install_requirements(chapter=5)"
      ],
      "metadata": {
        "colab": {
          "base_uri": "https://localhost:8080/"
        },
        "id": "-p-BtI3wa-Je",
        "outputId": "27e3918e-53e5-4d55-e266-9ed902d83e40"
      },
      "execution_count": 1,
      "outputs": [
        {
          "output_type": "stream",
          "name": "stdout",
          "text": [
            "fatal: destination path 'nlp-with-transformers' already exists and is not an empty directory.\n",
            "/content/nlp-with-transformers\n",
            "⏳ Installing base requirements ...\n",
            "✅ Base requirements installed!\n",
            "Using transformers v4.35.2\n",
            "Using datasets v2.16.1\n",
            "Using accelerate v0.26.1\n",
            "Using sentencepiece v0.1.99\n",
            "No GPU was detected! This notebook can be *very* slow without a GPU 🐢\n",
            "Go to Runtime > Change runtime type and select a GPU hardware accelerator.\n"
          ]
        }
      ]
    },
    {
      "cell_type": "code",
      "execution_count": 2,
      "metadata": {
        "colab": {
          "base_uri": "https://localhost:8080/"
        },
        "id": "KYRbM8ee-pzO",
        "outputId": "2ae1429e-0651-4d9d-d5f6-9eaf0df69143"
      },
      "outputs": [
        {
          "output_type": "stream",
          "name": "stderr",
          "text": [
            "/usr/local/lib/python3.10/dist-packages/huggingface_hub/utils/_token.py:88: UserWarning: \n",
            "The secret `HF_TOKEN` does not exist in your Colab secrets.\n",
            "To authenticate with the Hugging Face Hub, create a token in your settings tab (https://huggingface.co/settings/tokens), set it as secret in your Google Colab and restart your session.\n",
            "You will be able to reuse this secret in all of your notebooks.\n",
            "Please note that authentication is recommended but still optional to access public models or datasets.\n",
            "  warnings.warn(\n"
          ]
        }
      ],
      "source": [
        "import torch\n",
        "from transformers import AutoTokenizer, AutoModelForCausalLM\n",
        "\n",
        "# 코랩의 경우 gpt2-xl을 사용하면 메모리 부족 에러가 발생합니다.\n",
        "# 대신 \"gpt2\" 또는 \"gpt2-large\"로 지정하거나 코랩 프로를 사용하세요.\n",
        "device = \"cuda\" if torch.cuda.is_available() else \"cpu\"\n",
        "model_name = \"gpt2\"\n",
        "tokenizer = AutoTokenizer.from_pretrained(model_name)\n",
        "model = AutoModelForCausalLM.from_pretrained(model_name).to(device)"
      ]
    },
    {
      "cell_type": "markdown",
      "source": [
        "##**텍스트 생성하기**"
      ],
      "metadata": {
        "id": "OuChJSS-cEId"
      }
    },
    {
      "cell_type": "code",
      "source": [
        "import pandas as pd\n",
        "\n",
        "# “Transformers are the”를 입력 프롬프트로 사용\n",
        "input_txt = \"Transformers are the\"\n",
        "# 토크나이저 객체를 사용해 input_txt 토큰화 중. 출력은 파이토치 텐서로 반환.\n",
        "#input_ids는 토큰화된 입력 시퀀스인 것임.\n",
        "input_ids = tokenizer(input_txt, return_tensors=\"pt\")[\"input_ids\"].to(device)\n",
        "iterations = []\n",
        "\n",
        "# 여덟 번의 타임스텝 동안 디코딩 수행\n",
        "n_steps = 8\n",
        "\n",
        "# 대안을 시각적으로 보여주기 위해 타임스텝마다 확률이 가장 높은 토큰 다섯 개 저장\n",
        "choices_per_step = 5\n",
        "\n",
        "# 그래디언트 계산 수행하지마 > 메모리 아끼기\n",
        "with torch.no_grad():\n",
        "  for _ in range(n_steps):\n",
        "\t\t# 각 반복마다 정보를 저장할 딕셔너리 생성\n",
        "    iteration = dict()\n",
        "\t\t# 현재 반복에서 모델에 입력으로 주어지는 텍스트를 디코딩하여 저장\n",
        "    iteration[\"Input\"] = tokenizer.decode(input_ids[0])\n",
        "\t\t# 모델에 입력 텐서를 주고 출력(모델의 예측)을 계산\n",
        "    output = model(input_ids=input_ids)\n",
        "\n",
        "    # 첫 번째 배치의 마지막 토큰의 로짓을 선택해 소프트맥스를 적용\n",
        "\t\t# [0, -1, :]는 출력 텐서의 마지막 시퀀스의 모든 토큰에 대한 로짓을 선택\n",
        "    next_token_logits = output.logits[0, -1, :]\n",
        "    next_token_probs = torch.softmax(next_token_logits, dim=-1)\n",
        "    sorted_ids = torch.argsort(next_token_probs, dim=-1, descending=True)\n",
        "\n",
        "    # 가장 높은 확률의 토큰을 저장\n",
        "    for choice_idx in range(choices_per_step):\n",
        "      token_id = sorted_ids[choice_idx]\n",
        "      token_prob = next_token_probs[token_id].cpu().numpy()\n",
        "      token_choice = (\n",
        "          f\"{tokenizer.decode(token_id)} ({100 * token_prob:.2f})\"\n",
        "      )\n",
        "      iteration[f\"Choice {choice_idx+1}\"] = token_choice\n",
        "\n",
        "    # 예측한 다음 토큰을 입력해 추가\n",
        "    input_ids = torch.cat([input_ids, sorted_ids[None, 0, None]], dim=-1)\n",
        "    iterations.append(iteration)\n",
        "\n",
        "pd.DataFrame(iterations)"
      ],
      "metadata": {
        "colab": {
          "base_uri": "https://localhost:8080/",
          "height": 300
        },
        "id": "jkRS99HjcGEY",
        "outputId": "fe1bfba5-2e34-4640-fcb3-026de5caa869"
      },
      "execution_count": 3,
      "outputs": [
        {
          "output_type": "execute_result",
          "data": {
            "text/plain": [
              "                                               Input          Choice 1  \\\n",
              "0                               Transformers are the       most (9.76)   \n",
              "1                          Transformers are the most    common (22.90)   \n",
              "2                   Transformers are the most common      type (15.06)   \n",
              "3              Transformers are the most common type        of (83.13)   \n",
              "4           Transformers are the most common type of   particle (1.55)   \n",
              "5  Transformers are the most common type of particle         . (14.26)   \n",
              "6  Transformers are the most common type of parti...      They (17.48)   \n",
              "7  Transformers are the most common type of parti...       are (38.78)   \n",
              "\n",
              "           Choice 2           Choice 3         Choice 4             Choice 5  \n",
              "0       same (2.94)        only (2.87)      best (2.38)         first (1.77)  \n",
              "1   powerful (6.88)   important (6.32)   popular (3.95)      commonly (2.14)  \n",
              "2      types (3.31)        form (1.91)       way (1.89)           and (1.49)  \n",
              "3         in (3.16)           . (1.92)         , (1.63)           for (0.88)  \n",
              "4     object (1.02)       light (0.71)    energy (0.67)       objects (0.66)  \n",
              "5        in (11.57)       that (10.19)         , (9.57)   accelerator (5.81)  \n",
              "6        \\n (15.19)         The (7.06)     These (3.09)            In (3.07)  \n",
              "7       have (8.14)         can (7.98)       're (5.04)       consist (1.57)  "
            ],
            "text/html": [
              "\n",
              "  <div id=\"df-923b6300-d296-453c-aefe-20ca75ca34eb\" class=\"colab-df-container\">\n",
              "    <div>\n",
              "<style scoped>\n",
              "    .dataframe tbody tr th:only-of-type {\n",
              "        vertical-align: middle;\n",
              "    }\n",
              "\n",
              "    .dataframe tbody tr th {\n",
              "        vertical-align: top;\n",
              "    }\n",
              "\n",
              "    .dataframe thead th {\n",
              "        text-align: right;\n",
              "    }\n",
              "</style>\n",
              "<table border=\"1\" class=\"dataframe\">\n",
              "  <thead>\n",
              "    <tr style=\"text-align: right;\">\n",
              "      <th></th>\n",
              "      <th>Input</th>\n",
              "      <th>Choice 1</th>\n",
              "      <th>Choice 2</th>\n",
              "      <th>Choice 3</th>\n",
              "      <th>Choice 4</th>\n",
              "      <th>Choice 5</th>\n",
              "    </tr>\n",
              "  </thead>\n",
              "  <tbody>\n",
              "    <tr>\n",
              "      <th>0</th>\n",
              "      <td>Transformers are the</td>\n",
              "      <td>most (9.76)</td>\n",
              "      <td>same (2.94)</td>\n",
              "      <td>only (2.87)</td>\n",
              "      <td>best (2.38)</td>\n",
              "      <td>first (1.77)</td>\n",
              "    </tr>\n",
              "    <tr>\n",
              "      <th>1</th>\n",
              "      <td>Transformers are the most</td>\n",
              "      <td>common (22.90)</td>\n",
              "      <td>powerful (6.88)</td>\n",
              "      <td>important (6.32)</td>\n",
              "      <td>popular (3.95)</td>\n",
              "      <td>commonly (2.14)</td>\n",
              "    </tr>\n",
              "    <tr>\n",
              "      <th>2</th>\n",
              "      <td>Transformers are the most common</td>\n",
              "      <td>type (15.06)</td>\n",
              "      <td>types (3.31)</td>\n",
              "      <td>form (1.91)</td>\n",
              "      <td>way (1.89)</td>\n",
              "      <td>and (1.49)</td>\n",
              "    </tr>\n",
              "    <tr>\n",
              "      <th>3</th>\n",
              "      <td>Transformers are the most common type</td>\n",
              "      <td>of (83.13)</td>\n",
              "      <td>in (3.16)</td>\n",
              "      <td>. (1.92)</td>\n",
              "      <td>, (1.63)</td>\n",
              "      <td>for (0.88)</td>\n",
              "    </tr>\n",
              "    <tr>\n",
              "      <th>4</th>\n",
              "      <td>Transformers are the most common type of</td>\n",
              "      <td>particle (1.55)</td>\n",
              "      <td>object (1.02)</td>\n",
              "      <td>light (0.71)</td>\n",
              "      <td>energy (0.67)</td>\n",
              "      <td>objects (0.66)</td>\n",
              "    </tr>\n",
              "    <tr>\n",
              "      <th>5</th>\n",
              "      <td>Transformers are the most common type of particle</td>\n",
              "      <td>. (14.26)</td>\n",
              "      <td>in (11.57)</td>\n",
              "      <td>that (10.19)</td>\n",
              "      <td>, (9.57)</td>\n",
              "      <td>accelerator (5.81)</td>\n",
              "    </tr>\n",
              "    <tr>\n",
              "      <th>6</th>\n",
              "      <td>Transformers are the most common type of parti...</td>\n",
              "      <td>They (17.48)</td>\n",
              "      <td>\\n (15.19)</td>\n",
              "      <td>The (7.06)</td>\n",
              "      <td>These (3.09)</td>\n",
              "      <td>In (3.07)</td>\n",
              "    </tr>\n",
              "    <tr>\n",
              "      <th>7</th>\n",
              "      <td>Transformers are the most common type of parti...</td>\n",
              "      <td>are (38.78)</td>\n",
              "      <td>have (8.14)</td>\n",
              "      <td>can (7.98)</td>\n",
              "      <td>'re (5.04)</td>\n",
              "      <td>consist (1.57)</td>\n",
              "    </tr>\n",
              "  </tbody>\n",
              "</table>\n",
              "</div>\n",
              "    <div class=\"colab-df-buttons\">\n",
              "\n",
              "  <div class=\"colab-df-container\">\n",
              "    <button class=\"colab-df-convert\" onclick=\"convertToInteractive('df-923b6300-d296-453c-aefe-20ca75ca34eb')\"\n",
              "            title=\"Convert this dataframe to an interactive table.\"\n",
              "            style=\"display:none;\">\n",
              "\n",
              "  <svg xmlns=\"http://www.w3.org/2000/svg\" height=\"24px\" viewBox=\"0 -960 960 960\">\n",
              "    <path d=\"M120-120v-720h720v720H120Zm60-500h600v-160H180v160Zm220 220h160v-160H400v160Zm0 220h160v-160H400v160ZM180-400h160v-160H180v160Zm440 0h160v-160H620v160ZM180-180h160v-160H180v160Zm440 0h160v-160H620v160Z\"/>\n",
              "  </svg>\n",
              "    </button>\n",
              "\n",
              "  <style>\n",
              "    .colab-df-container {\n",
              "      display:flex;\n",
              "      gap: 12px;\n",
              "    }\n",
              "\n",
              "    .colab-df-convert {\n",
              "      background-color: #E8F0FE;\n",
              "      border: none;\n",
              "      border-radius: 50%;\n",
              "      cursor: pointer;\n",
              "      display: none;\n",
              "      fill: #1967D2;\n",
              "      height: 32px;\n",
              "      padding: 0 0 0 0;\n",
              "      width: 32px;\n",
              "    }\n",
              "\n",
              "    .colab-df-convert:hover {\n",
              "      background-color: #E2EBFA;\n",
              "      box-shadow: 0px 1px 2px rgba(60, 64, 67, 0.3), 0px 1px 3px 1px rgba(60, 64, 67, 0.15);\n",
              "      fill: #174EA6;\n",
              "    }\n",
              "\n",
              "    .colab-df-buttons div {\n",
              "      margin-bottom: 4px;\n",
              "    }\n",
              "\n",
              "    [theme=dark] .colab-df-convert {\n",
              "      background-color: #3B4455;\n",
              "      fill: #D2E3FC;\n",
              "    }\n",
              "\n",
              "    [theme=dark] .colab-df-convert:hover {\n",
              "      background-color: #434B5C;\n",
              "      box-shadow: 0px 1px 3px 1px rgba(0, 0, 0, 0.15);\n",
              "      filter: drop-shadow(0px 1px 2px rgba(0, 0, 0, 0.3));\n",
              "      fill: #FFFFFF;\n",
              "    }\n",
              "  </style>\n",
              "\n",
              "    <script>\n",
              "      const buttonEl =\n",
              "        document.querySelector('#df-923b6300-d296-453c-aefe-20ca75ca34eb button.colab-df-convert');\n",
              "      buttonEl.style.display =\n",
              "        google.colab.kernel.accessAllowed ? 'block' : 'none';\n",
              "\n",
              "      async function convertToInteractive(key) {\n",
              "        const element = document.querySelector('#df-923b6300-d296-453c-aefe-20ca75ca34eb');\n",
              "        const dataTable =\n",
              "          await google.colab.kernel.invokeFunction('convertToInteractive',\n",
              "                                                    [key], {});\n",
              "        if (!dataTable) return;\n",
              "\n",
              "        const docLinkHtml = 'Like what you see? Visit the ' +\n",
              "          '<a target=\"_blank\" href=https://colab.research.google.com/notebooks/data_table.ipynb>data table notebook</a>'\n",
              "          + ' to learn more about interactive tables.';\n",
              "        element.innerHTML = '';\n",
              "        dataTable['output_type'] = 'display_data';\n",
              "        await google.colab.output.renderOutput(dataTable, element);\n",
              "        const docLink = document.createElement('div');\n",
              "        docLink.innerHTML = docLinkHtml;\n",
              "        element.appendChild(docLink);\n",
              "      }\n",
              "    </script>\n",
              "  </div>\n",
              "\n",
              "\n",
              "<div id=\"df-e54e64b3-dc10-4794-96cf-435a1d04dddd\">\n",
              "  <button class=\"colab-df-quickchart\" onclick=\"quickchart('df-e54e64b3-dc10-4794-96cf-435a1d04dddd')\"\n",
              "            title=\"Suggest charts\"\n",
              "            style=\"display:none;\">\n",
              "\n",
              "<svg xmlns=\"http://www.w3.org/2000/svg\" height=\"24px\"viewBox=\"0 0 24 24\"\n",
              "     width=\"24px\">\n",
              "    <g>\n",
              "        <path d=\"M19 3H5c-1.1 0-2 .9-2 2v14c0 1.1.9 2 2 2h14c1.1 0 2-.9 2-2V5c0-1.1-.9-2-2-2zM9 17H7v-7h2v7zm4 0h-2V7h2v10zm4 0h-2v-4h2v4z\"/>\n",
              "    </g>\n",
              "</svg>\n",
              "  </button>\n",
              "\n",
              "<style>\n",
              "  .colab-df-quickchart {\n",
              "      --bg-color: #E8F0FE;\n",
              "      --fill-color: #1967D2;\n",
              "      --hover-bg-color: #E2EBFA;\n",
              "      --hover-fill-color: #174EA6;\n",
              "      --disabled-fill-color: #AAA;\n",
              "      --disabled-bg-color: #DDD;\n",
              "  }\n",
              "\n",
              "  [theme=dark] .colab-df-quickchart {\n",
              "      --bg-color: #3B4455;\n",
              "      --fill-color: #D2E3FC;\n",
              "      --hover-bg-color: #434B5C;\n",
              "      --hover-fill-color: #FFFFFF;\n",
              "      --disabled-bg-color: #3B4455;\n",
              "      --disabled-fill-color: #666;\n",
              "  }\n",
              "\n",
              "  .colab-df-quickchart {\n",
              "    background-color: var(--bg-color);\n",
              "    border: none;\n",
              "    border-radius: 50%;\n",
              "    cursor: pointer;\n",
              "    display: none;\n",
              "    fill: var(--fill-color);\n",
              "    height: 32px;\n",
              "    padding: 0;\n",
              "    width: 32px;\n",
              "  }\n",
              "\n",
              "  .colab-df-quickchart:hover {\n",
              "    background-color: var(--hover-bg-color);\n",
              "    box-shadow: 0 1px 2px rgba(60, 64, 67, 0.3), 0 1px 3px 1px rgba(60, 64, 67, 0.15);\n",
              "    fill: var(--button-hover-fill-color);\n",
              "  }\n",
              "\n",
              "  .colab-df-quickchart-complete:disabled,\n",
              "  .colab-df-quickchart-complete:disabled:hover {\n",
              "    background-color: var(--disabled-bg-color);\n",
              "    fill: var(--disabled-fill-color);\n",
              "    box-shadow: none;\n",
              "  }\n",
              "\n",
              "  .colab-df-spinner {\n",
              "    border: 2px solid var(--fill-color);\n",
              "    border-color: transparent;\n",
              "    border-bottom-color: var(--fill-color);\n",
              "    animation:\n",
              "      spin 1s steps(1) infinite;\n",
              "  }\n",
              "\n",
              "  @keyframes spin {\n",
              "    0% {\n",
              "      border-color: transparent;\n",
              "      border-bottom-color: var(--fill-color);\n",
              "      border-left-color: var(--fill-color);\n",
              "    }\n",
              "    20% {\n",
              "      border-color: transparent;\n",
              "      border-left-color: var(--fill-color);\n",
              "      border-top-color: var(--fill-color);\n",
              "    }\n",
              "    30% {\n",
              "      border-color: transparent;\n",
              "      border-left-color: var(--fill-color);\n",
              "      border-top-color: var(--fill-color);\n",
              "      border-right-color: var(--fill-color);\n",
              "    }\n",
              "    40% {\n",
              "      border-color: transparent;\n",
              "      border-right-color: var(--fill-color);\n",
              "      border-top-color: var(--fill-color);\n",
              "    }\n",
              "    60% {\n",
              "      border-color: transparent;\n",
              "      border-right-color: var(--fill-color);\n",
              "    }\n",
              "    80% {\n",
              "      border-color: transparent;\n",
              "      border-right-color: var(--fill-color);\n",
              "      border-bottom-color: var(--fill-color);\n",
              "    }\n",
              "    90% {\n",
              "      border-color: transparent;\n",
              "      border-bottom-color: var(--fill-color);\n",
              "    }\n",
              "  }\n",
              "</style>\n",
              "\n",
              "  <script>\n",
              "    async function quickchart(key) {\n",
              "      const quickchartButtonEl =\n",
              "        document.querySelector('#' + key + ' button');\n",
              "      quickchartButtonEl.disabled = true;  // To prevent multiple clicks.\n",
              "      quickchartButtonEl.classList.add('colab-df-spinner');\n",
              "      try {\n",
              "        const charts = await google.colab.kernel.invokeFunction(\n",
              "            'suggestCharts', [key], {});\n",
              "      } catch (error) {\n",
              "        console.error('Error during call to suggestCharts:', error);\n",
              "      }\n",
              "      quickchartButtonEl.classList.remove('colab-df-spinner');\n",
              "      quickchartButtonEl.classList.add('colab-df-quickchart-complete');\n",
              "    }\n",
              "    (() => {\n",
              "      let quickchartButtonEl =\n",
              "        document.querySelector('#df-e54e64b3-dc10-4794-96cf-435a1d04dddd button');\n",
              "      quickchartButtonEl.style.display =\n",
              "        google.colab.kernel.accessAllowed ? 'block' : 'none';\n",
              "    })();\n",
              "  </script>\n",
              "</div>\n",
              "\n",
              "    </div>\n",
              "  </div>\n"
            ]
          },
          "metadata": {},
          "execution_count": 3
        }
      ]
    },
    {
      "cell_type": "markdown",
      "source": [
        "##**generate() 사용**"
      ],
      "metadata": {
        "id": "dCEbVm0XjpVw"
      }
    },
    {
      "cell_type": "code",
      "source": [
        "input_ids = tokenizer(input_txt, return_tensors=\"pt\")[\"input_ids\"].to(device)\n",
        "output = model.generate(input_ids, max_new_tokens=n_steps, do_sample=False)\n",
        "print(tokenizer.decode(output[0]))"
      ],
      "metadata": {
        "colab": {
          "base_uri": "https://localhost:8080/"
        },
        "id": "MpLDYNQgju8t",
        "outputId": "359c5452-b139-408c-daf1-07663a882112"
      },
      "execution_count": 4,
      "outputs": [
        {
          "output_type": "stream",
          "name": "stdout",
          "text": [
            "Transformers are the most common type of particle. They are\n"
          ]
        }
      ]
    },
    {
      "cell_type": "markdown",
      "source": [
        "##**OpenAI의 유니콘 기사 재현하기**"
      ],
      "metadata": {
        "id": "ejctIbzik9KV"
      }
    },
    {
      "cell_type": "code",
      "source": [
        "# 긴 텍스트 시퀀스 생성을 위해 max_length에 큰 값을 지정\n",
        "max_length = 128\n",
        "\n",
        "input_txt = \"\"\"In a shocking finding, scientist discovered \\\n",
        "a herd of unicorns living in a remote, previously unexplored \\\n",
        "valley, in the Andes Mountains. Even more surprising to the \\\n",
        "researchers was the fact that the unicorns spoke perfect English.\\n\\n\n",
        "\"\"\"\n",
        "\n",
        "input_ids = tokenizer(input_txt, return_tensors=\"pt\")[\"input_ids\"].to(device)\n",
        "# genrate() 함수 이용하여 모델에게 입력 텐서를 주고 텍스트 생성 요청하기\n",
        "output_greedy = model.generate(input_ids, max_length=max_length,\n",
        "                               do_sample=False)\n",
        "# 생성된 텍스트를 디코딩하여 출력\n",
        "print(tokenizer.decode(output_greedy[0]))"
      ],
      "metadata": {
        "colab": {
          "base_uri": "https://localhost:8080/"
        },
        "id": "Q1kwb7Hyk-Kg",
        "outputId": "33f54bb9-3048-4822-f9fb-52f45ee255c3"
      },
      "execution_count": 5,
      "outputs": [
        {
          "output_type": "stream",
          "name": "stdout",
          "text": [
            "In a shocking finding, scientist discovered a herd of unicorns living in a\n",
            "remote, previously unexplored valley, in the Andes Mountains. Even more\n",
            "surprising to the researchers was the fact that the unicorns spoke perfect\n",
            "English.\n",
            "\n",
            "\n",
            "\"The unicorns were very intelligent, and they were very intelligent,\" said Dr.\n",
            "David S. Siegel, a professor of anthropology at the University of California,\n",
            "Berkeley. \"They were very intelligent, and they were very intelligent, and they\n",
            "were very intelligent, and they were very intelligent, and they were very\n",
            "intelligent, and they were very intelligent, and they were very intelligent, and\n",
            "they were very\n"
          ]
        }
      ]
    },
    {
      "cell_type": "markdown",
      "source": [
        "#**5.3 빔 서치 디코딩**"
      ],
      "metadata": {
        "id": "Th1C8FcQTpjE"
      }
    },
    {
      "cell_type": "code",
      "source": [
        "#  t = 1024개의 토큰으로 이루어진 시퀀스에서 각 토큰의 확률이 0.5라 가정\n",
        "0.5 ** 1024"
      ],
      "metadata": {
        "colab": {
          "base_uri": "https://localhost:8080/"
        },
        "id": "mZrLCcwATpBI",
        "outputId": "14631bd3-c240-4cf1-83fd-ef30560b61bd"
      },
      "execution_count": 6,
      "outputs": [
        {
          "output_type": "execute_result",
          "data": {
            "text/plain": [
              "5.562684646268003e-309"
            ]
          },
          "metadata": {},
          "execution_count": 6
        }
      ]
    },
    {
      "cell_type": "markdown",
      "source": [
        "##**로그 확률**"
      ],
      "metadata": {
        "id": "RFp7s0x3WgtV"
      }
    },
    {
      "cell_type": "code",
      "source": [
        "# 이전 예를 그대로 적용\n",
        "import numpy as np\n",
        "\n",
        "sum([np.log(0.5)] * 1024)"
      ],
      "metadata": {
        "colab": {
          "base_uri": "https://localhost:8080/"
        },
        "id": "kLkRWvuKWjDB",
        "outputId": "8b6f9fc8-6408-45e5-de69-c11d6b26593c"
      },
      "execution_count": 7,
      "outputs": [
        {
          "output_type": "execute_result",
          "data": {
            "text/plain": [
              "-709.7827128933695"
            ]
          },
          "metadata": {},
          "execution_count": 7
        }
      ]
    },
    {
      "cell_type": "markdown",
      "source": [
        "###**로그 확률 비교해보기**"
      ],
      "metadata": {
        "id": "GEPUbvXLYTSy"
      }
    },
    {
      "cell_type": "markdown",
      "source": [
        "####**하나의 토큰에 대한 로그 확률 계산 함수 만들기**"
      ],
      "metadata": {
        "id": "qu3ICKKmgErD"
      }
    },
    {
      "cell_type": "code",
      "source": [
        "import torch.nn.functional as F\n",
        "\n",
        "def log_probs_from_logits(logits, labels):\n",
        "  # 입력된 로짓에 대해 로그 소프트맥스 계산\n",
        "  logp = F.log_softmax(logits, dim=-1)\n",
        "\n",
        "  # 각 데이터 포인트에 대한 정답 라벨의 로그 확률을 추출\n",
        "  # unsqueeze(2)를 사용하여 labels 텐서의 차원을 하나 확장하여 함수의 입력으로 사용\n",
        "  # 그 후 squeeze(-1)를 사용하여 결과 텐서의 크기를 줄임\n",
        "  logp_label = torch.gather(logp, 2, labels.unsqueeze(2)).squeeze(-1)\n",
        "  return logp_label"
      ],
      "metadata": {
        "id": "wQkeUoZ8YWCf"
      },
      "execution_count": 11,
      "outputs": []
    },
    {
      "cell_type": "markdown",
      "source": [
        "####**시퀀스의 전체 로그 확률 얻기**"
      ],
      "metadata": {
        "id": "rzHksaI_gTQn"
      }
    },
    {
      "cell_type": "code",
      "source": [
        "# input_len=0 : 이 값은 출력에서 무시할 초기 입력 토큰의 수를 의미\n",
        "def sequence_logprob(model, labels, input_len=0):\n",
        "    with torch.no_grad():\n",
        "        output = model(labels)\n",
        "        log_probs = log_probs_from_logits(\n",
        "            output.logits[:, :-1, :], labels[:, 1:])\n",
        "\n",
        "        # input_len 이후의 모든 로그 확률을 합산하여 시퀀스의 전체 로그 확률을 계산\n",
        "        seq_log_prob = torch.sum(log_probs[:, input_len:])\n",
        "    return seq_log_prob.cpu().numpy()"
      ],
      "metadata": {
        "id": "I06T6LIBgcAu"
      },
      "execution_count": 12,
      "outputs": []
    },
    {
      "cell_type": "markdown",
      "source": [
        "####**그리디 서치로 만든 시퀀스의 로그 확률 계산하기**"
      ],
      "metadata": {
        "id": "DMPYG4wnjagj"
      }
    },
    {
      "cell_type": "code",
      "source": [
        "# 함수 호출하여 output_greedy 시퀀스에 대한 로그 확률 계산\n",
        "# input_len은 입력 시퀀스의 길이로 설정\n",
        "logp = sequence_logprob(model, output_greedy, input_len=len(input_ids[0]))\n",
        "\n",
        "# 시퀀스를 디코딩하여 텍스트로 출력\n",
        "print(tokenizer.decode(output_greedy[0]))\n",
        "\n",
        "print(f\"\\n로그 확률: {logp:.2f}\")"
      ],
      "metadata": {
        "colab": {
          "base_uri": "https://localhost:8080/"
        },
        "id": "MH8k_2Tlje9E",
        "outputId": "a71930b9-46ee-4021-ae68-f348bda9ad89"
      },
      "execution_count": 13,
      "outputs": [
        {
          "output_type": "stream",
          "name": "stdout",
          "text": [
            "In a shocking finding, scientist discovered a herd of unicorns living in a\n",
            "remote, previously unexplored valley, in the Andes Mountains. Even more\n",
            "surprising to the researchers was the fact that the unicorns spoke perfect\n",
            "English.\n",
            "\n",
            "\n",
            "\"The unicorns were very intelligent, and they were very intelligent,\" said Dr.\n",
            "David S. Siegel, a professor of anthropology at the University of California,\n",
            "Berkeley. \"They were very intelligent, and they were very intelligent, and they\n",
            "were very intelligent, and they were very intelligent, and they were very\n",
            "intelligent, and they were very intelligent, and they were very intelligent, and\n",
            "they were very\n",
            "\n",
            "로그 확률: -83.32\n"
          ]
        }
      ]
    },
    {
      "cell_type": "markdown",
      "source": [
        "####**빔 서치로 생성한 시퀀스 로그 확률**"
      ],
      "metadata": {
        "id": "Go8G17BlltYv"
      }
    },
    {
      "cell_type": "code",
      "source": [
        "# 빔 서치 활성화를 위해 generate() 함수에 num_beams 매개변수에 빔 개수 지정\n",
        "output_beam = model.generate(input_ids, max_length=max_length, num_beams=5,\n",
        "                             do_sample=False)\n",
        "\n",
        "# 함수 호출하여 output_beam 시퀀스에 대한 로그 확률 계산\n",
        "# input_len은 입력 시퀀스의 길이로 설정\n",
        "logp = sequence_logprob(model, output_beam, input_len=len(input_ids[0]))\n",
        "\n",
        "# 시퀀스를 디코딩하여 텍스트로 출력\n",
        "print(tokenizer.decode(output_beam[0]))\n",
        "\n",
        "print(f\"\\n로그 확률: {logp:.2f}\")"
      ],
      "metadata": {
        "colab": {
          "base_uri": "https://localhost:8080/"
        },
        "id": "vIes5kA9lukm",
        "outputId": "fc568274-fba1-4ffd-f0a9-d589727f744b"
      },
      "execution_count": 14,
      "outputs": [
        {
          "output_type": "stream",
          "name": "stdout",
          "text": [
            "In a shocking finding, scientist discovered a herd of unicorns living in a\n",
            "remote, previously unexplored valley, in the Andes Mountains. Even more\n",
            "surprising to the researchers was the fact that the unicorns spoke perfect\n",
            "English.\n",
            "\n",
            "\n",
            "The researchers, from the University of California, San Diego, and the\n",
            "University of California, Santa Cruz, found that the unicorns were able to\n",
            "communicate with each other in a way that was similar to that of human speech.\n",
            "\n",
            "\n",
            "\"The unicorns were able to communicate with each other in a way that was similar\n",
            "to that of human speech,\" said study co-lead author Dr. David J.\n",
            "\n",
            "로그 확률: -78.34\n"
          ]
        }
      ]
    },
    {
      "cell_type": "markdown",
      "source": [
        "###**n-그램 페널티**"
      ],
      "metadata": {
        "id": "M4_XmLOmog0v"
      }
    },
    {
      "cell_type": "code",
      "source": [
        "# 생성된 시퀀스에서 반복되는 n-gram을 허용하지 않는 크기가 2라는 것\n",
        "output_beam = model.generate(input_ids, max_length=max_length, num_beams=5,\n",
        "                             do_sample=False, no_repeat_ngram_size=2)\n",
        "logp = sequence_logprob(model, output_beam, input_len=len(input_ids[0]))\n",
        "print(tokenizer.decode(output_beam[0]))\n",
        "print(f\"\\n로그 확률: {logp:.2f}\")"
      ],
      "metadata": {
        "colab": {
          "base_uri": "https://localhost:8080/"
        },
        "id": "t816Dnx-okFB",
        "outputId": "61723be3-4e5c-43fa-f115-e6966739bbef"
      },
      "execution_count": 15,
      "outputs": [
        {
          "output_type": "stream",
          "name": "stdout",
          "text": [
            "In a shocking finding, scientist discovered a herd of unicorns living in a\n",
            "remote, previously unexplored valley, in the Andes Mountains. Even more\n",
            "surprising to the researchers was the fact that the unicorns spoke perfect\n",
            "English.\n",
            "\n",
            "\n",
            "The researchers, from the University of California, San Diego, and the National\n",
            "Science Foundation (NSF) in Boulder, Colorado, were able to translate the words\n",
            "of the unicorn into English, which they then translated into Spanish.\n",
            "\n",
            "\"This is the first time that we have translated a language into an English\n",
            "language,\" said study co-author and NSF professor of linguistics and\n",
            "evolutionary biology Dr.\n",
            "\n",
            "로그 확률: -101.87\n"
          ]
        }
      ]
    },
    {
      "cell_type": "markdown",
      "source": [
        "#**5.4 샘플링 방법**"
      ],
      "metadata": {
        "id": "8ZW8SxxG-H_w"
      }
    },
    {
      "cell_type": "markdown",
      "source": [
        "##**온도가 생성되는 텍스트에 미치는 영향 알아보기**"
      ],
      "metadata": {
        "id": "tWApkjK8-Ojo"
      }
    },
    {
      "cell_type": "markdown",
      "source": [
        "###**온도가 높을 때**"
      ],
      "metadata": {
        "id": "QjLZTi9S_86C"
      }
    },
    {
      "cell_type": "code",
      "source": [
        "# top_k = N : 모델이 다음 단어를 예측할 때 예측한 확률 값 중 상위 N개의 단어만 고려하도록 하는 것\n",
        "output_temp = model.generate(input_ids, max_length=max_length, do_sample=True,\n",
        "                             temperature=2.0, top_k=0)\n",
        "print(tokenizer.decode(output_temp[0]))"
      ],
      "metadata": {
        "colab": {
          "base_uri": "https://localhost:8080/"
        },
        "id": "_o15pVil-Tfl",
        "outputId": "b3e34ccd-3d1a-402e-9a44-3b1cdf380791"
      },
      "execution_count": 17,
      "outputs": [
        {
          "output_type": "stream",
          "name": "stdout",
          "text": [
            "In a shocking finding, scientist discovered a herd of unicorns living in a\n",
            "remote, previously unexplored valley, in the Andes Mountains. Even more\n",
            "surprising to the researchers was the fact that the unicorns spoke perfect\n",
            "English.\n",
            "\n",
            "\n",
            "Leave significant community history: actors assault MH buried plight felt gamb\n",
            "Light SalSab homeworld Background info Lou forcibly taught its upon leaving\n",
            "Sahulates Wally Green Chevroletasks god Tal Defensive Mobrequently\n",
            "handsetlaneober ease DodCh Prayer button during GreekingSolution Hindu\n",
            "occupational Oman contracted throwing Barnett likes friendly Rabbitg texts on\n",
            "trending3 Creedater Conversion twelve Bluebirds particlesrhcz Thor Dale Dayton\n",
            "Dennis agency threat encounters understands Kuro licences\n"
          ]
        }
      ]
    },
    {
      "cell_type": "markdown",
      "source": [
        "###**온도가 낮을 때**"
      ],
      "metadata": {
        "id": "8lTNBAgcABIW"
      }
    },
    {
      "cell_type": "code",
      "source": [
        "output_temp = model.generate(input_ids, max_length=max_length, do_sample=True,\n",
        "                          temperature=0.5, top_k=0)\n",
        "print(tokenizer.decode(output_temp[0]))"
      ],
      "metadata": {
        "colab": {
          "base_uri": "https://localhost:8080/"
        },
        "id": "wxiYA5PMAC6r",
        "outputId": "a17bf72e-ed1b-458a-ca45-8d3fce4374b5"
      },
      "execution_count": 21,
      "outputs": [
        {
          "output_type": "stream",
          "name": "stdout",
          "text": [
            "In a shocking finding, scientist discovered a herd of unicorns living in a\n",
            "remote, previously unexplored valley, in the Andes Mountains. Even more\n",
            "surprising to the researchers was the fact that the unicorns spoke perfect\n",
            "English.\n",
            "\n",
            "\n",
            "The scientist, who was not involved in the research, told the newspaper that the\n",
            "unicorns spoke perfect English and that they were among the first to speak it.\n",
            "\n",
            "\n",
            "\"They were so clever, so clever that it was difficult to believe that they were\n",
            "speaking English,\" he said.\n",
            "\n",
            "\n",
            "The team found that the unicorns were not only able to communicate perfectly\n",
            "with humans, but also with their human\n"
          ]
        }
      ]
    },
    {
      "cell_type": "markdown",
      "source": [
        "#**5.5 탑-k 및 뉴클리어스(탑-p) 샘플링**"
      ],
      "metadata": {
        "id": "idC9F9v_Ht1w"
      }
    },
    {
      "cell_type": "markdown",
      "source": [
        "##**탑-k 샘플링**"
      ],
      "metadata": {
        "id": "XZ3OOBr4HwzS"
      }
    },
    {
      "cell_type": "code",
      "source": [
        "output_topk = model.generate(input_ids, max_length=max_length, do_sample=True,\n",
        "                             top_k=50)\n",
        "print(tokenizer.decode(output_topk[0]))"
      ],
      "metadata": {
        "colab": {
          "base_uri": "https://localhost:8080/"
        },
        "id": "AU9skDaNHy5B",
        "outputId": "6d023a9b-a471-4ac5-8b99-a7c124f330ae"
      },
      "execution_count": 24,
      "outputs": [
        {
          "output_type": "stream",
          "name": "stdout",
          "text": [
            "In a shocking finding, scientist discovered a herd of unicorns living in a\n",
            "remote, previously unexplored valley, in the Andes Mountains. Even more\n",
            "surprising to the researchers was the fact that the unicorns spoke perfect\n",
            "English.\n",
            "\n",
            "\n",
            "The researchers found that the only known language used by the animals was\n",
            "Bengali. Researchers are unsure whether that language can be interpreted as\n",
            "Chinese, but it would explain their strange speech patterns.\n",
            "\n",
            "\n",
            "\"The unicorns have the 'perfect' English, and we are not sure that that's what\n",
            "they all say. The way they speak, we don't know. They don't say 'hello', we\n"
          ]
        }
      ]
    },
    {
      "cell_type": "markdown",
      "source": [
        "##**탑-p 샘플링**"
      ],
      "metadata": {
        "id": "xwAIZFgvNtWc"
      }
    },
    {
      "cell_type": "code",
      "source": [
        "output_topp = model.generate(input_ids, max_length=max_length, do_sample=True,\n",
        "                             top_p=0.90)\n",
        "print(tokenizer.decode(output_topp[0]))"
      ],
      "metadata": {
        "colab": {
          "base_uri": "https://localhost:8080/"
        },
        "id": "wUfjtI1VNvMc",
        "outputId": "86f14813-d87d-4e11-d01d-d741f9fce817"
      },
      "execution_count": 26,
      "outputs": [
        {
          "output_type": "stream",
          "name": "stdout",
          "text": [
            "In a shocking finding, scientist discovered a herd of unicorns living in a\n",
            "remote, previously unexplored valley, in the Andes Mountains. Even more\n",
            "surprising to the researchers was the fact that the unicorns spoke perfect\n",
            "English.\n",
            "\n",
            "\n",
            "\"Our study is the first documented instance of a large-scale population-based\n",
            "study of the diversity of languages that inhabit a region,\" the researchers\n",
            "wrote in a release.\n",
            "\n",
            "One of the most striking findings was the fact that the unicorns were able to\n",
            "communicate with humans. The researchers discovered that the unicorns learned to\n",
            "identify specific messages with their tongues.\n",
            "\n",
            "\"When the unicorns shared these\n"
          ]
        }
      ]
    }
  ]
}